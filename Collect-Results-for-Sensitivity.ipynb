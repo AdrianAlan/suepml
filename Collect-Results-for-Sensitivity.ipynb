{
 "cells": [
  {
   "cell_type": "code",
   "execution_count": null,
   "metadata": {},
   "outputs": [],
   "source": [
    "import numpy as np\n",
    "import os\n",
    "import sys\n",
    "import torch\n",
    "import torch.backends.cudnn as cudnn\n",
    "import torch.cuda as tcuda\n",
    "import torch.nn as nn\n",
    "import yaml\n",
    "\n",
    "from torch.nn.functional import softmax\n",
    "from utils import get_data_loader\n",
    "\n",
    "from sklearn.metrics import (\n",
    "    auc,\n",
    "    accuracy_score,\n",
    "    average_precision_score,\n",
    "    precision_recall_curve,\n",
    "    roc_curve\n",
    ")\n",
    "\n",
    "from suepvision.smodels import (\n",
    "    LeNet5,\n",
    "    get_resnet18,\n",
    "    get_resnet50\n",
    ")"
   ]
  },
  {
   "cell_type": "code",
   "execution_count": null,
   "metadata": {},
   "outputs": [],
   "source": [
    "MODEL_NAME = 'ResNet50-LabFrame-Classifier'\n",
    "config = yaml.safe_load(open(\"configs/resnet50-labframe-classifier.yml\"))\n",
    "dataset = config['dataset']\n",
    "evaluation_pref = config['evaluation_pref']"
   ]
  },
  {
   "cell_type": "code",
   "execution_count": null,
   "metadata": {},
   "outputs": [],
   "source": [
    "model = eval(config['architecture'])()\n",
    "model.load_state_dict(torch.load(\"models/{}.pth\".format(MODEL_NAME)))\n",
    "model = model.to(0)"
   ]
  },
  {
   "cell_type": "code",
   "execution_count": null,
   "metadata": {},
   "outputs": [],
   "source": [
    "test_loader = get_data_loader(\n",
    "    dataset['test'][0],\n",
    "    evaluation_pref['batch_size'],\n",
    "    evaluation_pref['workers'],\n",
    "    dataset['in_dim'],\n",
    "    0,\n",
    "    boosted=dataset['boosted'],\n",
    "    shuffle=False\n",
    ")"
   ]
  },
  {
   "cell_type": "code",
   "execution_count": null,
   "metadata": {},
   "outputs": [],
   "source": [
    "results = torch.tensor([])\n",
    "model.eval()\n",
    "with torch.no_grad():\n",
    "    for images, targets, _, _ in test_loader:\n",
    "        targets = tcuda.LongTensor(targets, device=0)\n",
    "        outputs = model(images)\n",
    "        batch_results = torch.cat((targets.reshape(-1, 1), outputs), 1)\n",
    "        results = torch.cat((results, batch_results.cpu()), 0)"
   ]
  },
  {
   "cell_type": "code",
   "execution_count": null,
   "metadata": {},
   "outputs": [],
   "source": [
    "CV = 10\n",
    "\n",
    "y_true = results[:, 0]\n",
    "y_pred = softmax(results[:, 1:], 1)\n",
    "y_pred = y_pred[:, 1].detach().cpu().numpy()\n",
    "\n",
    "samples_per_cv = len(y_true) // CV\n",
    "\n",
    "aucs, aps, acc = [], [], []\n",
    "for i in range(CV):\n",
    "    y_true_cv = y_true[i*samples_per_cv:(i+1)*samples_per_cv]\n",
    "    y_pred_cv = y_pred[i*samples_per_cv:(i+1)*samples_per_cv]\n",
    "\n",
    "    fpr, tpr, _ = roc_curve(y_true_cv, y_pred_cv)\n",
    "\n",
    "    aucs.append(auc(fpr, tpr))\n",
    "    acc.append(accuracy_score(y_true_cv, y_pred_cv > .5))\n",
    "    aps.append(average_precision_score(y_true_cv, y_pred_cv))\n",
    "\n",
    "print(u'Accuracy: {0:.3f} \\u00B1 {1:.3f}'.format(np.mean(acc), np.std(acc)))\n",
    "print(u'ROC AUC: {0:.3f} \\u00B1 {1:.3f}'.format(np.mean(aucs), np.std(aucs)))\n",
    "print(u'PR AP: {0:.3f} \\u00B1 {1:.3f}'.format(np.mean(aps), np.std((aps))))"
   ]
  },
  {
   "cell_type": "code",
   "execution_count": null,
   "metadata": {},
   "outputs": [],
   "source": []
  }
 ],
 "metadata": {
  "kernelspec": {
   "display_name": "Python 3 (ipykernel)",
   "language": "python",
   "name": "python3"
  },
  "language_info": {
   "codemirror_mode": {
    "name": "ipython",
    "version": 3
   },
   "file_extension": ".py",
   "mimetype": "text/x-python",
   "name": "python",
   "nbconvert_exporter": "python",
   "pygments_lexer": "ipython3",
   "version": "3.10.2"
  }
 },
 "nbformat": 4,
 "nbformat_minor": 4
}
